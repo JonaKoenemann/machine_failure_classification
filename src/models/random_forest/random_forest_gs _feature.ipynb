{
 "cells": [
  {
   "cell_type": "code",
   "execution_count": 25,
   "metadata": {},
   "outputs": [
    {
     "name": "stdout",
     "output_type": "stream",
     "text": [
      "Requirement already satisfied: pandas in c:\\users\\jkoenemann\\github\\machine_failure_classification\\venv\\lib\\site-packages (2.2.2)\n",
      "Requirement already satisfied: numpy>=1.26.0 in c:\\users\\jkoenemann\\github\\machine_failure_classification\\venv\\lib\\site-packages (from pandas) (1.26.4)\n",
      "Requirement already satisfied: python-dateutil>=2.8.2 in c:\\users\\jkoenemann\\github\\machine_failure_classification\\venv\\lib\\site-packages (from pandas) (2.9.0.post0)\n",
      "Requirement already satisfied: pytz>=2020.1 in c:\\users\\jkoenemann\\github\\machine_failure_classification\\venv\\lib\\site-packages (from pandas) (2024.1)\n",
      "Requirement already satisfied: tzdata>=2022.7 in c:\\users\\jkoenemann\\github\\machine_failure_classification\\venv\\lib\\site-packages (from pandas) (2024.1)\n",
      "Requirement already satisfied: six>=1.5 in c:\\users\\jkoenemann\\github\\machine_failure_classification\\venv\\lib\\site-packages (from python-dateutil>=2.8.2->pandas) (1.16.0)\n"
     ]
    },
    {
     "name": "stderr",
     "output_type": "stream",
     "text": [
      "\n",
      "[notice] A new release of pip is available: 23.2.1 -> 24.0\n",
      "[notice] To update, run: python.exe -m pip install --upgrade pip\n"
     ]
    },
    {
     "name": "stdout",
     "output_type": "stream",
     "text": [
      "Requirement already satisfied: scikit-learn in c:\\users\\jkoenemann\\github\\machine_failure_classification\\venv\\lib\\site-packages (1.4.2)\n",
      "Requirement already satisfied: numpy>=1.19.5 in c:\\users\\jkoenemann\\github\\machine_failure_classification\\venv\\lib\\site-packages (from scikit-learn) (1.26.4)\n",
      "Requirement already satisfied: scipy>=1.6.0 in c:\\users\\jkoenemann\\github\\machine_failure_classification\\venv\\lib\\site-packages (from scikit-learn) (1.13.0)\n",
      "Requirement already satisfied: joblib>=1.2.0 in c:\\users\\jkoenemann\\github\\machine_failure_classification\\venv\\lib\\site-packages (from scikit-learn) (1.4.0)\n",
      "Requirement already satisfied: threadpoolctl>=2.0.0 in c:\\users\\jkoenemann\\github\\machine_failure_classification\\venv\\lib\\site-packages (from scikit-learn) (3.4.0)\n"
     ]
    },
    {
     "name": "stderr",
     "output_type": "stream",
     "text": [
      "\n",
      "[notice] A new release of pip is available: 23.2.1 -> 24.0\n",
      "[notice] To update, run: python.exe -m pip install --upgrade pip\n"
     ]
    },
    {
     "name": "stdout",
     "output_type": "stream",
     "text": [
      "Requirement already satisfied: seaborn in c:\\users\\jkoenemann\\github\\machine_failure_classification\\venv\\lib\\site-packages (0.13.2)\n",
      "Requirement already satisfied: numpy!=1.24.0,>=1.20 in c:\\users\\jkoenemann\\github\\machine_failure_classification\\venv\\lib\\site-packages (from seaborn) (1.26.4)\n",
      "Requirement already satisfied: pandas>=1.2 in c:\\users\\jkoenemann\\github\\machine_failure_classification\\venv\\lib\\site-packages (from seaborn) (2.2.2)\n",
      "Requirement already satisfied: matplotlib!=3.6.1,>=3.4 in c:\\users\\jkoenemann\\github\\machine_failure_classification\\venv\\lib\\site-packages (from seaborn) (3.8.4)\n",
      "Requirement already satisfied: contourpy>=1.0.1 in c:\\users\\jkoenemann\\github\\machine_failure_classification\\venv\\lib\\site-packages (from matplotlib!=3.6.1,>=3.4->seaborn) (1.2.1)\n",
      "Requirement already satisfied: cycler>=0.10 in c:\\users\\jkoenemann\\github\\machine_failure_classification\\venv\\lib\\site-packages (from matplotlib!=3.6.1,>=3.4->seaborn) (0.12.1)\n",
      "Requirement already satisfied: fonttools>=4.22.0 in c:\\users\\jkoenemann\\github\\machine_failure_classification\\venv\\lib\\site-packages (from matplotlib!=3.6.1,>=3.4->seaborn) (4.51.0)\n",
      "Requirement already satisfied: kiwisolver>=1.3.1 in c:\\users\\jkoenemann\\github\\machine_failure_classification\\venv\\lib\\site-packages (from matplotlib!=3.6.1,>=3.4->seaborn) (1.4.5)\n",
      "Requirement already satisfied: packaging>=20.0 in c:\\users\\jkoenemann\\github\\machine_failure_classification\\venv\\lib\\site-packages (from matplotlib!=3.6.1,>=3.4->seaborn) (24.0)\n",
      "Requirement already satisfied: pillow>=8 in c:\\users\\jkoenemann\\github\\machine_failure_classification\\venv\\lib\\site-packages (from matplotlib!=3.6.1,>=3.4->seaborn) (10.3.0)\n",
      "Requirement already satisfied: pyparsing>=2.3.1 in c:\\users\\jkoenemann\\github\\machine_failure_classification\\venv\\lib\\site-packages (from matplotlib!=3.6.1,>=3.4->seaborn) (3.1.2)\n",
      "Requirement already satisfied: python-dateutil>=2.7 in c:\\users\\jkoenemann\\github\\machine_failure_classification\\venv\\lib\\site-packages (from matplotlib!=3.6.1,>=3.4->seaborn) (2.9.0.post0)\n",
      "Requirement already satisfied: pytz>=2020.1 in c:\\users\\jkoenemann\\github\\machine_failure_classification\\venv\\lib\\site-packages (from pandas>=1.2->seaborn) (2024.1)\n",
      "Requirement already satisfied: tzdata>=2022.7 in c:\\users\\jkoenemann\\github\\machine_failure_classification\\venv\\lib\\site-packages (from pandas>=1.2->seaborn) (2024.1)\n",
      "Requirement already satisfied: six>=1.5 in c:\\users\\jkoenemann\\github\\machine_failure_classification\\venv\\lib\\site-packages (from python-dateutil>=2.7->matplotlib!=3.6.1,>=3.4->seaborn) (1.16.0)\n"
     ]
    },
    {
     "name": "stderr",
     "output_type": "stream",
     "text": [
      "\n",
      "[notice] A new release of pip is available: 23.2.1 -> 24.0\n",
      "[notice] To update, run: python.exe -m pip install --upgrade pip\n"
     ]
    },
    {
     "name": "stdout",
     "output_type": "stream",
     "text": [
      "Requirement already satisfied: dagshub in c:\\users\\jkoenemann\\github\\machine_failure_classification\\venv\\lib\\site-packages (0.3.25)\n",
      "Requirement already satisfied: PyYAML>=5 in c:\\users\\jkoenemann\\github\\machine_failure_classification\\venv\\lib\\site-packages (from dagshub) (6.0.1)\n",
      "Requirement already satisfied: fusepy>=3 in c:\\users\\jkoenemann\\github\\machine_failure_classification\\venv\\lib\\site-packages (from dagshub) (3.0.1)\n",
      "Requirement already satisfied: appdirs>=1.4.4 in c:\\users\\jkoenemann\\github\\machine_failure_classification\\venv\\lib\\site-packages (from dagshub) (1.4.4)\n",
      "Requirement already satisfied: click>=8.0.4 in c:\\users\\jkoenemann\\github\\machine_failure_classification\\venv\\lib\\site-packages (from dagshub) (8.1.7)\n",
      "Requirement already satisfied: httpx~=0.23.0 in c:\\users\\jkoenemann\\github\\machine_failure_classification\\venv\\lib\\site-packages (from dagshub) (0.23.3)\n",
      "Requirement already satisfied: GitPython>=3.1.29 in c:\\users\\jkoenemann\\github\\machine_failure_classification\\venv\\lib\\site-packages (from dagshub) (3.1.43)\n",
      "Requirement already satisfied: rich~=13.1.0 in c:\\users\\jkoenemann\\github\\machine_failure_classification\\venv\\lib\\site-packages (from dagshub) (13.1.0)\n",
      "Requirement already satisfied: dacite~=1.6.0 in c:\\users\\jkoenemann\\github\\machine_failure_classification\\venv\\lib\\site-packages (from dagshub) (1.6.0)\n",
      "Requirement already satisfied: tenacity~=8.2.2 in c:\\users\\jkoenemann\\github\\machine_failure_classification\\venv\\lib\\site-packages (from dagshub) (8.2.3)\n",
      "Requirement already satisfied: gql[requests] in c:\\users\\jkoenemann\\github\\machine_failure_classification\\venv\\lib\\site-packages (from dagshub) (3.5.0)\n",
      "Requirement already satisfied: dataclasses-json in c:\\users\\jkoenemann\\github\\machine_failure_classification\\venv\\lib\\site-packages (from dagshub) (0.6.5)\n",
      "Requirement already satisfied: pandas in c:\\users\\jkoenemann\\github\\machine_failure_classification\\venv\\lib\\site-packages (from dagshub) (2.2.2)\n",
      "Requirement already satisfied: treelib~=1.6.4 in c:\\users\\jkoenemann\\github\\machine_failure_classification\\venv\\lib\\site-packages (from dagshub) (1.6.4)\n",
      "Requirement already satisfied: pathvalidate~=3.0.0 in c:\\users\\jkoenemann\\github\\machine_failure_classification\\venv\\lib\\site-packages (from dagshub) (3.0.0)\n",
      "Requirement already satisfied: python-dateutil in c:\\users\\jkoenemann\\github\\machine_failure_classification\\venv\\lib\\site-packages (from dagshub) (2.9.0.post0)\n",
      "Requirement already satisfied: boto3 in c:\\users\\jkoenemann\\github\\machine_failure_classification\\venv\\lib\\site-packages (from dagshub) (1.34.93)\n",
      "Requirement already satisfied: colorama in c:\\users\\jkoenemann\\github\\machine_failure_classification\\venv\\lib\\site-packages (from click>=8.0.4->dagshub) (0.4.6)\n",
      "Requirement already satisfied: gitdb<5,>=4.0.1 in c:\\users\\jkoenemann\\github\\machine_failure_classification\\venv\\lib\\site-packages (from GitPython>=3.1.29->dagshub) (4.0.11)\n",
      "Requirement already satisfied: certifi in c:\\users\\jkoenemann\\github\\machine_failure_classification\\venv\\lib\\site-packages (from httpx~=0.23.0->dagshub) (2024.2.2)\n",
      "Requirement already satisfied: httpcore<0.17.0,>=0.15.0 in c:\\users\\jkoenemann\\github\\machine_failure_classification\\venv\\lib\\site-packages (from httpx~=0.23.0->dagshub) (0.16.3)\n",
      "Requirement already satisfied: rfc3986[idna2008]<2,>=1.3 in c:\\users\\jkoenemann\\github\\machine_failure_classification\\venv\\lib\\site-packages (from httpx~=0.23.0->dagshub) (1.5.0)\n",
      "Requirement already satisfied: sniffio in c:\\users\\jkoenemann\\github\\machine_failure_classification\\venv\\lib\\site-packages (from httpx~=0.23.0->dagshub) (1.3.1)\n",
      "Requirement already satisfied: commonmark<0.10.0,>=0.9.0 in c:\\users\\jkoenemann\\github\\machine_failure_classification\\venv\\lib\\site-packages (from rich~=13.1.0->dagshub) (0.9.1)\n",
      "Requirement already satisfied: pygments<3.0.0,>=2.6.0 in c:\\users\\jkoenemann\\github\\machine_failure_classification\\venv\\lib\\site-packages (from rich~=13.1.0->dagshub) (2.17.2)\n",
      "Requirement already satisfied: six in c:\\users\\jkoenemann\\github\\machine_failure_classification\\venv\\lib\\site-packages (from treelib~=1.6.4->dagshub) (1.16.0)\n",
      "Requirement already satisfied: botocore<1.35.0,>=1.34.93 in c:\\users\\jkoenemann\\github\\machine_failure_classification\\venv\\lib\\site-packages (from boto3->dagshub) (1.34.93)\n",
      "Requirement already satisfied: jmespath<2.0.0,>=0.7.1 in c:\\users\\jkoenemann\\github\\machine_failure_classification\\venv\\lib\\site-packages (from boto3->dagshub) (1.0.1)\n",
      "Requirement already satisfied: s3transfer<0.11.0,>=0.10.0 in c:\\users\\jkoenemann\\github\\machine_failure_classification\\venv\\lib\\site-packages (from boto3->dagshub) (0.10.1)\n",
      "Requirement already satisfied: marshmallow<4.0.0,>=3.18.0 in c:\\users\\jkoenemann\\github\\machine_failure_classification\\venv\\lib\\site-packages (from dataclasses-json->dagshub) (3.21.1)\n",
      "Requirement already satisfied: typing-inspect<1,>=0.4.0 in c:\\users\\jkoenemann\\github\\machine_failure_classification\\venv\\lib\\site-packages (from dataclasses-json->dagshub) (0.9.0)\n",
      "Requirement already satisfied: graphql-core<3.3,>=3.2 in c:\\users\\jkoenemann\\github\\machine_failure_classification\\venv\\lib\\site-packages (from gql[requests]->dagshub) (3.2.3)\n",
      "Requirement already satisfied: yarl<2.0,>=1.6 in c:\\users\\jkoenemann\\github\\machine_failure_classification\\venv\\lib\\site-packages (from gql[requests]->dagshub) (1.9.4)\n",
      "Requirement already satisfied: backoff<3.0,>=1.11.1 in c:\\users\\jkoenemann\\github\\machine_failure_classification\\venv\\lib\\site-packages (from gql[requests]->dagshub) (2.2.1)\n",
      "Requirement already satisfied: anyio<5,>=3.0 in c:\\users\\jkoenemann\\github\\machine_failure_classification\\venv\\lib\\site-packages (from gql[requests]->dagshub) (4.3.0)\n",
      "Requirement already satisfied: requests<3,>=2.26 in c:\\users\\jkoenemann\\github\\machine_failure_classification\\venv\\lib\\site-packages (from gql[requests]->dagshub) (2.31.0)\n",
      "Requirement already satisfied: requests-toolbelt<2,>=1.0.0 in c:\\users\\jkoenemann\\github\\machine_failure_classification\\venv\\lib\\site-packages (from gql[requests]->dagshub) (1.0.0)\n",
      "Requirement already satisfied: numpy>=1.26.0 in c:\\users\\jkoenemann\\github\\machine_failure_classification\\venv\\lib\\site-packages (from pandas->dagshub) (1.26.4)\n",
      "Requirement already satisfied: pytz>=2020.1 in c:\\users\\jkoenemann\\github\\machine_failure_classification\\venv\\lib\\site-packages (from pandas->dagshub) (2024.1)\n",
      "Requirement already satisfied: tzdata>=2022.7 in c:\\users\\jkoenemann\\github\\machine_failure_classification\\venv\\lib\\site-packages (from pandas->dagshub) (2024.1)\n",
      "Requirement already satisfied: idna>=2.8 in c:\\users\\jkoenemann\\github\\machine_failure_classification\\venv\\lib\\site-packages (from anyio<5,>=3.0->gql[requests]->dagshub) (3.7)\n",
      "Requirement already satisfied: urllib3!=2.2.0,<3,>=1.25.4 in c:\\users\\jkoenemann\\github\\machine_failure_classification\\venv\\lib\\site-packages (from botocore<1.35.0,>=1.34.93->boto3->dagshub) (2.2.1)\n",
      "Requirement already satisfied: smmap<6,>=3.0.1 in c:\\users\\jkoenemann\\github\\machine_failure_classification\\venv\\lib\\site-packages (from gitdb<5,>=4.0.1->GitPython>=3.1.29->dagshub) (5.0.1)\n",
      "Requirement already satisfied: h11<0.15,>=0.13 in c:\\users\\jkoenemann\\github\\machine_failure_classification\\venv\\lib\\site-packages (from httpcore<0.17.0,>=0.15.0->httpx~=0.23.0->dagshub) (0.14.0)\n",
      "Requirement already satisfied: packaging>=17.0 in c:\\users\\jkoenemann\\github\\machine_failure_classification\\venv\\lib\\site-packages (from marshmallow<4.0.0,>=3.18.0->dataclasses-json->dagshub) (24.0)\n",
      "Requirement already satisfied: charset-normalizer<4,>=2 in c:\\users\\jkoenemann\\github\\machine_failure_classification\\venv\\lib\\site-packages (from requests<3,>=2.26->gql[requests]->dagshub) (3.3.2)\n",
      "Requirement already satisfied: mypy-extensions>=0.3.0 in c:\\users\\jkoenemann\\github\\machine_failure_classification\\venv\\lib\\site-packages (from typing-inspect<1,>=0.4.0->dataclasses-json->dagshub) (1.0.0)\n",
      "Requirement already satisfied: typing-extensions>=3.7.4 in c:\\users\\jkoenemann\\github\\machine_failure_classification\\venv\\lib\\site-packages (from typing-inspect<1,>=0.4.0->dataclasses-json->dagshub) (4.11.0)\n",
      "Requirement already satisfied: multidict>=4.0 in c:\\users\\jkoenemann\\github\\machine_failure_classification\\venv\\lib\\site-packages (from yarl<2.0,>=1.6->gql[requests]->dagshub) (6.0.5)\n"
     ]
    },
    {
     "name": "stderr",
     "output_type": "stream",
     "text": [
      "\n",
      "[notice] A new release of pip is available: 23.2.1 -> 24.0\n",
      "[notice] To update, run: python.exe -m pip install --upgrade pip\n"
     ]
    },
    {
     "name": "stdout",
     "output_type": "stream",
     "text": [
      "Requirement already satisfied: mlflow in c:\\users\\jkoenemann\\github\\machine_failure_classification\\venv\\lib\\site-packages (2.12.1)\n",
      "Requirement already satisfied: Flask<4 in c:\\users\\jkoenemann\\github\\machine_failure_classification\\venv\\lib\\site-packages (from mlflow) (3.0.3)\n",
      "Requirement already satisfied: alembic!=1.10.0,<2 in c:\\users\\jkoenemann\\github\\machine_failure_classification\\venv\\lib\\site-packages (from mlflow) (1.13.1)\n",
      "Requirement already satisfied: click<9,>=7.0 in c:\\users\\jkoenemann\\github\\machine_failure_classification\\venv\\lib\\site-packages (from mlflow) (8.1.7)\n",
      "Requirement already satisfied: cloudpickle<4 in c:\\users\\jkoenemann\\github\\machine_failure_classification\\venv\\lib\\site-packages (from mlflow) (3.0.0)\n",
      "Requirement already satisfied: docker<8,>=4.0.0 in c:\\users\\jkoenemann\\github\\machine_failure_classification\\venv\\lib\\site-packages (from mlflow) (7.0.0)\n",
      "Requirement already satisfied: entrypoints<1 in c:\\users\\jkoenemann\\github\\machine_failure_classification\\venv\\lib\\site-packages (from mlflow) (0.4)\n",
      "Requirement already satisfied: gitpython<4,>=3.1.9 in c:\\users\\jkoenemann\\github\\machine_failure_classification\\venv\\lib\\site-packages (from mlflow) (3.1.43)\n",
      "Requirement already satisfied: graphene<4 in c:\\users\\jkoenemann\\github\\machine_failure_classification\\venv\\lib\\site-packages (from mlflow) (3.3)\n",
      "Requirement already satisfied: importlib-metadata!=4.7.0,<8,>=3.7.0 in c:\\users\\jkoenemann\\github\\machine_failure_classification\\venv\\lib\\site-packages (from mlflow) (7.1.0)\n",
      "Requirement already satisfied: markdown<4,>=3.3 in c:\\users\\jkoenemann\\github\\machine_failure_classification\\venv\\lib\\site-packages (from mlflow) (3.6)\n",
      "Requirement already satisfied: matplotlib<4 in c:\\users\\jkoenemann\\github\\machine_failure_classification\\venv\\lib\\site-packages (from mlflow) (3.8.4)\n",
      "Requirement already satisfied: numpy<2 in c:\\users\\jkoenemann\\github\\machine_failure_classification\\venv\\lib\\site-packages (from mlflow) (1.26.4)\n",
      "Requirement already satisfied: packaging<25 in c:\\users\\jkoenemann\\github\\machine_failure_classification\\venv\\lib\\site-packages (from mlflow) (24.0)\n",
      "Requirement already satisfied: pandas<3 in c:\\users\\jkoenemann\\github\\machine_failure_classification\\venv\\lib\\site-packages (from mlflow) (2.2.2)\n",
      "Requirement already satisfied: protobuf<6,>=3.12.0 in c:\\users\\jkoenemann\\github\\machine_failure_classification\\venv\\lib\\site-packages (from mlflow) (4.25.3)\n",
      "Requirement already satisfied: pyarrow<16,>=4.0.0 in c:\\users\\jkoenemann\\github\\machine_failure_classification\\venv\\lib\\site-packages (from mlflow) (15.0.2)\n",
      "Requirement already satisfied: pytz<2025 in c:\\users\\jkoenemann\\github\\machine_failure_classification\\venv\\lib\\site-packages (from mlflow) (2024.1)\n",
      "Requirement already satisfied: pyyaml<7,>=5.1 in c:\\users\\jkoenemann\\github\\machine_failure_classification\\venv\\lib\\site-packages (from mlflow) (6.0.1)\n",
      "Requirement already satisfied: querystring-parser<2 in c:\\users\\jkoenemann\\github\\machine_failure_classification\\venv\\lib\\site-packages (from mlflow) (1.2.4)\n",
      "Requirement already satisfied: requests<3,>=2.17.3 in c:\\users\\jkoenemann\\github\\machine_failure_classification\\venv\\lib\\site-packages (from mlflow) (2.31.0)\n",
      "Requirement already satisfied: scikit-learn<2 in c:\\users\\jkoenemann\\github\\machine_failure_classification\\venv\\lib\\site-packages (from mlflow) (1.4.2)\n",
      "Requirement already satisfied: scipy<2 in c:\\users\\jkoenemann\\github\\machine_failure_classification\\venv\\lib\\site-packages (from mlflow) (1.13.0)\n",
      "Requirement already satisfied: sqlalchemy<3,>=1.4.0 in c:\\users\\jkoenemann\\github\\machine_failure_classification\\venv\\lib\\site-packages (from mlflow) (2.0.29)\n",
      "Requirement already satisfied: sqlparse<1,>=0.4.0 in c:\\users\\jkoenemann\\github\\machine_failure_classification\\venv\\lib\\site-packages (from mlflow) (0.5.0)\n",
      "Requirement already satisfied: Jinja2<4,>=3.0 in c:\\users\\jkoenemann\\github\\machine_failure_classification\\venv\\lib\\site-packages (from mlflow) (3.1.3)\n",
      "Requirement already satisfied: waitress<4 in c:\\users\\jkoenemann\\github\\machine_failure_classification\\venv\\lib\\site-packages (from mlflow) (3.0.0)\n",
      "Requirement already satisfied: Mako in c:\\users\\jkoenemann\\github\\machine_failure_classification\\venv\\lib\\site-packages (from alembic!=1.10.0,<2->mlflow) (1.3.3)\n",
      "Requirement already satisfied: typing-extensions>=4 in c:\\users\\jkoenemann\\github\\machine_failure_classification\\venv\\lib\\site-packages (from alembic!=1.10.0,<2->mlflow) (4.11.0)\n",
      "Requirement already satisfied: colorama in c:\\users\\jkoenemann\\github\\machine_failure_classification\\venv\\lib\\site-packages (from click<9,>=7.0->mlflow) (0.4.6)\n",
      "Requirement already satisfied: urllib3>=1.26.0 in c:\\users\\jkoenemann\\github\\machine_failure_classification\\venv\\lib\\site-packages (from docker<8,>=4.0.0->mlflow) (2.2.1)\n",
      "Requirement already satisfied: pywin32>=304 in c:\\users\\jkoenemann\\github\\machine_failure_classification\\venv\\lib\\site-packages (from docker<8,>=4.0.0->mlflow) (306)\n",
      "Requirement already satisfied: Werkzeug>=3.0.0 in c:\\users\\jkoenemann\\github\\machine_failure_classification\\venv\\lib\\site-packages (from Flask<4->mlflow) (3.0.2)\n",
      "Requirement already satisfied: itsdangerous>=2.1.2 in c:\\users\\jkoenemann\\github\\machine_failure_classification\\venv\\lib\\site-packages (from Flask<4->mlflow) (2.2.0)\n",
      "Requirement already satisfied: blinker>=1.6.2 in c:\\users\\jkoenemann\\github\\machine_failure_classification\\venv\\lib\\site-packages (from Flask<4->mlflow) (1.8.1)\n",
      "Requirement already satisfied: gitdb<5,>=4.0.1 in c:\\users\\jkoenemann\\github\\machine_failure_classification\\venv\\lib\\site-packages (from gitpython<4,>=3.1.9->mlflow) (4.0.11)\n",
      "Requirement already satisfied: graphql-core<3.3,>=3.1 in c:\\users\\jkoenemann\\github\\machine_failure_classification\\venv\\lib\\site-packages (from graphene<4->mlflow) (3.2.3)\n",
      "Requirement already satisfied: graphql-relay<3.3,>=3.1 in c:\\users\\jkoenemann\\github\\machine_failure_classification\\venv\\lib\\site-packages (from graphene<4->mlflow) (3.2.0)\n",
      "Requirement already satisfied: aniso8601<10,>=8 in c:\\users\\jkoenemann\\github\\machine_failure_classification\\venv\\lib\\site-packages (from graphene<4->mlflow) (9.0.1)\n",
      "Requirement already satisfied: zipp>=0.5 in c:\\users\\jkoenemann\\github\\machine_failure_classification\\venv\\lib\\site-packages (from importlib-metadata!=4.7.0,<8,>=3.7.0->mlflow) (3.18.1)\n",
      "Requirement already satisfied: MarkupSafe>=2.0 in c:\\users\\jkoenemann\\github\\machine_failure_classification\\venv\\lib\\site-packages (from Jinja2<4,>=3.0->mlflow) (2.1.5)\n",
      "Requirement already satisfied: contourpy>=1.0.1 in c:\\users\\jkoenemann\\github\\machine_failure_classification\\venv\\lib\\site-packages (from matplotlib<4->mlflow) (1.2.1)\n",
      "Requirement already satisfied: cycler>=0.10 in c:\\users\\jkoenemann\\github\\machine_failure_classification\\venv\\lib\\site-packages (from matplotlib<4->mlflow) (0.12.1)\n",
      "Requirement already satisfied: fonttools>=4.22.0 in c:\\users\\jkoenemann\\github\\machine_failure_classification\\venv\\lib\\site-packages (from matplotlib<4->mlflow) (4.51.0)\n",
      "Requirement already satisfied: kiwisolver>=1.3.1 in c:\\users\\jkoenemann\\github\\machine_failure_classification\\venv\\lib\\site-packages (from matplotlib<4->mlflow) (1.4.5)\n",
      "Requirement already satisfied: pillow>=8 in c:\\users\\jkoenemann\\github\\machine_failure_classification\\venv\\lib\\site-packages (from matplotlib<4->mlflow) (10.3.0)\n",
      "Requirement already satisfied: pyparsing>=2.3.1 in c:\\users\\jkoenemann\\github\\machine_failure_classification\\venv\\lib\\site-packages (from matplotlib<4->mlflow) (3.1.2)\n",
      "Requirement already satisfied: python-dateutil>=2.7 in c:\\users\\jkoenemann\\github\\machine_failure_classification\\venv\\lib\\site-packages (from matplotlib<4->mlflow) (2.9.0.post0)\n",
      "Requirement already satisfied: tzdata>=2022.7 in c:\\users\\jkoenemann\\github\\machine_failure_classification\\venv\\lib\\site-packages (from pandas<3->mlflow) (2024.1)\n",
      "Requirement already satisfied: six in c:\\users\\jkoenemann\\github\\machine_failure_classification\\venv\\lib\\site-packages (from querystring-parser<2->mlflow) (1.16.0)\n",
      "Requirement already satisfied: charset-normalizer<4,>=2 in c:\\users\\jkoenemann\\github\\machine_failure_classification\\venv\\lib\\site-packages (from requests<3,>=2.17.3->mlflow) (3.3.2)\n",
      "Requirement already satisfied: idna<4,>=2.5 in c:\\users\\jkoenemann\\github\\machine_failure_classification\\venv\\lib\\site-packages (from requests<3,>=2.17.3->mlflow) (3.7)\n",
      "Requirement already satisfied: certifi>=2017.4.17 in c:\\users\\jkoenemann\\github\\machine_failure_classification\\venv\\lib\\site-packages (from requests<3,>=2.17.3->mlflow) (2024.2.2)\n",
      "Requirement already satisfied: joblib>=1.2.0 in c:\\users\\jkoenemann\\github\\machine_failure_classification\\venv\\lib\\site-packages (from scikit-learn<2->mlflow) (1.4.0)\n",
      "Requirement already satisfied: threadpoolctl>=2.0.0 in c:\\users\\jkoenemann\\github\\machine_failure_classification\\venv\\lib\\site-packages (from scikit-learn<2->mlflow) (3.4.0)\n",
      "Requirement already satisfied: greenlet!=0.4.17 in c:\\users\\jkoenemann\\github\\machine_failure_classification\\venv\\lib\\site-packages (from sqlalchemy<3,>=1.4.0->mlflow) (3.0.3)\n",
      "Requirement already satisfied: smmap<6,>=3.0.1 in c:\\users\\jkoenemann\\github\\machine_failure_classification\\venv\\lib\\site-packages (from gitdb<5,>=4.0.1->gitpython<4,>=3.1.9->mlflow) (5.0.1)\n"
     ]
    },
    {
     "name": "stderr",
     "output_type": "stream",
     "text": [
      "\n",
      "[notice] A new release of pip is available: 23.2.1 -> 24.0\n",
      "[notice] To update, run: python.exe -m pip install --upgrade pip\n"
     ]
    }
   ],
   "source": [
    "import sys\n",
    "\n",
    "!{sys.executable} -m pip install pandas\n",
    "!{sys.executable} -m pip install scikit-learn\n",
    "!{sys.executable} -m pip install seaborn\n",
    "!{sys.executable} -m pip install dagshub\n",
    "!{sys.executable} -m pip install mlflow"
   ]
  },
  {
   "cell_type": "code",
   "execution_count": 35,
   "metadata": {},
   "outputs": [],
   "source": [
    "import pandas as pd\n",
    "import numpy as np\n",
    "import seaborn as sns\n",
    "import mlflow\n",
    "import mlflow.sklearn\n",
    "from sklearn.ensemble import RandomForestClassifier\n",
    "from sklearn.model_selection import train_test_split, GridSearchCV\n",
    "from sklearn.preprocessing import StandardScaler, OneHotEncoder, PolynomialFeatures\n",
    "from sklearn.compose import ColumnTransformer\n",
    "from sklearn.pipeline import Pipeline\n",
    "from sklearn.metrics import accuracy_score, classification_report, confusion_matrix, make_scorer\n",
    "import matplotlib.pyplot as plt"
   ]
  },
  {
   "cell_type": "code",
   "execution_count": 27,
   "metadata": {},
   "outputs": [
    {
     "data": {
      "text/html": [
       "<pre style=\"white-space:pre;overflow-x:auto;line-height:normal;font-family:Menlo,'DejaVu Sans Mono',consolas,'Courier New',monospace\">Initialized MLflow to track repo <span style=\"color: #008000; text-decoration-color: #008000\">\"JonaKoenemann/machine_failure_classification\"</span>\n",
       "</pre>\n"
      ],
      "text/plain": [
       "Initialized MLflow to track repo \u001b[32m\"JonaKoenemann/machine_failure_classification\"\u001b[0m\n"
      ]
     },
     "metadata": {},
     "output_type": "display_data"
    },
    {
     "data": {
      "text/html": [
       "<pre style=\"white-space:pre;overflow-x:auto;line-height:normal;font-family:Menlo,'DejaVu Sans Mono',consolas,'Courier New',monospace\">Repository JonaKoenemann/machine_failure_classification initialized!\n",
       "</pre>\n"
      ],
      "text/plain": [
       "Repository JonaKoenemann/machine_failure_classification initialized!\n"
      ]
     },
     "metadata": {},
     "output_type": "display_data"
    }
   ],
   "source": [
    "# set up dagshub for mlflow tracking\n",
    "import dagshub\n",
    "dagshub.init(repo_owner='JonaKoenemann', repo_name='machine_failure_classification', mlflow=True)"
   ]
  },
  {
   "cell_type": "markdown",
   "metadata": {},
   "source": [
    "## Data preparation"
   ]
  },
  {
   "cell_type": "code",
   "execution_count": 28,
   "metadata": {},
   "outputs": [],
   "source": [
    "data_path = \"../../../data/predictive_maintenance.csv\""
   ]
  },
  {
   "cell_type": "code",
   "execution_count": 29,
   "metadata": {},
   "outputs": [],
   "source": [
    "df = pd.read_csv(data_path)"
   ]
  },
  {
   "cell_type": "code",
   "execution_count": 30,
   "metadata": {},
   "outputs": [],
   "source": [
    "categorical_features = ['Type']\n",
    "numerical_features = df.select_dtypes(include=[np.number]).columns.tolist()\n",
    "numerical_features.remove('UDI')\n",
    "numerical_features.remove('Target')\n",
    "\n",
    "# Feature Engineering: Polynomial Features\n",
    "poly = PolynomialFeatures(degree=2, include_bias=False)\n",
    "\n",
    "preprocessor = ColumnTransformer(\n",
    "    transformers=[\n",
    "        ('num', Pipeline(steps=[\n",
    "            ('scaler', StandardScaler()),\n",
    "            ('poly', poly)\n",
    "        ]), numerical_features),\n",
    "        ('cat', OneHotEncoder(), categorical_features)\n",
    "    ])"
   ]
  },
  {
   "cell_type": "code",
   "execution_count": 31,
   "metadata": {},
   "outputs": [],
   "source": [
    "# Split for features (X) und labels (y)\n",
    "X = df[numerical_features + categorical_features] # select Features \n",
    "y = df[\"Failure Type\"]"
   ]
  },
  {
   "cell_type": "code",
   "execution_count": 32,
   "metadata": {},
   "outputs": [],
   "source": [
    "# Split for test and train data\n",
    "X_train, X_test, y_train, y_test = train_test_split(X, y, test_size=0.2, random_state=42)"
   ]
  },
  {
   "cell_type": "code",
   "execution_count": 33,
   "metadata": {},
   "outputs": [
    {
     "name": "stderr",
     "output_type": "stream",
     "text": [
      "2024/06/06 19:09:09 INFO mlflow.utils.autologging_utils: Created MLflow autologging run with ID '7f0485f3553b4ebc9065d10bb16e3339', which will track hyperparameters, performance metrics, model artifacts, and lineage information for the current sklearn workflow\n",
      "2024/06/06 19:09:10 WARNING mlflow.utils.autologging_utils: MLflow autologging encountered a warning: \"c:\\Users\\jkoenemann\\GitHub\\machine_failure_classification\\venv\\Lib\\site-packages\\mlflow\\data\\digest_utils.py:26: FutureWarning: DataFrame.applymap has been deprecated. Use DataFrame.map instead.\"\n",
      "2024/06/06 19:09:10 WARNING mlflow.utils.autologging_utils: MLflow autologging encountered a warning: \"c:\\Users\\jkoenemann\\GitHub\\machine_failure_classification\\venv\\Lib\\site-packages\\mlflow\\types\\utils.py:394: UserWarning: Hint: Inferred schema contains integer column(s). Integer columns in Python cannot represent missing values. If your input data contains missing values at inference time, it will be encoded as floats and will cause a schema enforcement error. The best way to avoid this problem is to infer the model schema based on a realistic data sample (training dataset) that includes missing values. Alternatively, you can declare integer columns as doubles (float64) whenever these columns may have missing values. See `Handling Integers With Missing Values <https://www.mlflow.org/docs/latest/models.html#handling-integers-with-missing-values>`_ for more details.\"\n",
      "2024/06/06 19:09:11 WARNING mlflow.sklearn: Training metrics will not be recorded because training labels were not specified. To automatically record training metrics, provide training labels as inputs to the model training function.\n",
      "2024/06/06 19:09:11 WARNING mlflow.utils.autologging_utils: MLflow autologging encountered a warning: \"c:\\Users\\jkoenemann\\GitHub\\machine_failure_classification\\venv\\Lib\\site-packages\\mlflow\\types\\utils.py:394: UserWarning: Hint: Inferred schema contains integer column(s). Integer columns in Python cannot represent missing values. If your input data contains missing values at inference time, it will be encoded as floats and will cause a schema enforcement error. The best way to avoid this problem is to infer the model schema based on a realistic data sample (training dataset) that includes missing values. Alternatively, you can declare integer columns as doubles (float64) whenever these columns may have missing values. See `Handling Integers With Missing Values <https://www.mlflow.org/docs/latest/models.html#handling-integers-with-missing-values>`_ for more details.\"\n",
      "2024/06/06 19:09:11 WARNING mlflow.sklearn: Model was missing function: predict. Not logging python_function flavor!\n",
      "2024/06/06 19:09:24 WARNING mlflow.utils.autologging_utils: MLflow autologging encountered a warning: \"c:\\Users\\jkoenemann\\GitHub\\machine_failure_classification\\venv\\Lib\\site-packages\\mlflow\\data\\digest_utils.py:26: FutureWarning: DataFrame.applymap has been deprecated. Use DataFrame.map instead.\"\n",
      "2024/06/06 19:09:24 WARNING mlflow.utils.autologging_utils: MLflow autologging encountered a warning: \"c:\\Users\\jkoenemann\\GitHub\\machine_failure_classification\\venv\\Lib\\site-packages\\mlflow\\types\\utils.py:394: UserWarning: Hint: Inferred schema contains integer column(s). Integer columns in Python cannot represent missing values. If your input data contains missing values at inference time, it will be encoded as floats and will cause a schema enforcement error. The best way to avoid this problem is to infer the model schema based on a realistic data sample (training dataset) that includes missing values. Alternatively, you can declare integer columns as doubles (float64) whenever these columns may have missing values. See `Handling Integers With Missing Values <https://www.mlflow.org/docs/latest/models.html#handling-integers-with-missing-values>`_ for more details.\"\n"
     ]
    },
    {
     "name": "stdout",
     "output_type": "stream",
     "text": [
      "(8000, 23)\n",
      "(2000, 23)\n"
     ]
    }
   ],
   "source": [
    "# Test preprocessor pipeline\n",
    "X_train_transformed = preprocessor.fit_transform(X_train)\n",
    "X_test_transformed = preprocessor.transform(X_test)\n",
    "\n",
    "print(X_train_transformed.shape)\n",
    "print(X_test_transformed.shape)"
   ]
  },
  {
   "cell_type": "markdown",
   "metadata": {},
   "source": [
    "## Train and test"
   ]
  },
  {
   "cell_type": "code",
   "execution_count": 37,
   "metadata": {},
   "outputs": [
    {
     "name": "stderr",
     "output_type": "stream",
     "text": [
      "2024/06/06 19:23:42 WARNING mlflow.utils.autologging_utils: MLflow autologging encountered a warning: \"c:\\Users\\jkoenemann\\GitHub\\machine_failure_classification\\venv\\Lib\\site-packages\\mlflow\\data\\digest_utils.py:26: FutureWarning: DataFrame.applymap has been deprecated. Use DataFrame.map instead.\"\n",
      "2024/06/06 19:24:15 WARNING mlflow.utils.autologging_utils: MLflow autologging encountered a warning: \"c:\\Users\\jkoenemann\\GitHub\\machine_failure_classification\\venv\\Lib\\site-packages\\mlflow\\types\\utils.py:394: UserWarning: Hint: Inferred schema contains integer column(s). Integer columns in Python cannot represent missing values. If your input data contains missing values at inference time, it will be encoded as floats and will cause a schema enforcement error. The best way to avoid this problem is to infer the model schema based on a realistic data sample (training dataset) that includes missing values. Alternatively, you can declare integer columns as doubles (float64) whenever these columns may have missing values. See `Handling Integers With Missing Values <https://www.mlflow.org/docs/latest/models.html#handling-integers-with-missing-values>`_ for more details.\"\n"
     ]
    },
    {
     "name": "stdout",
     "output_type": "stream",
     "text": [
      "Fitting 5 folds for each of 216 candidates, totalling 1080 fits\n"
     ]
    },
    {
     "name": "stderr",
     "output_type": "stream",
     "text": [
      "2024/06/06 19:47:14 WARNING mlflow.utils.autologging_utils: MLflow autologging encountered a warning: \"c:\\Users\\jkoenemann\\GitHub\\machine_failure_classification\\venv\\Lib\\site-packages\\mlflow\\types\\utils.py:394: UserWarning: Hint: Inferred schema contains integer column(s). Integer columns in Python cannot represent missing values. If your input data contains missing values at inference time, it will be encoded as floats and will cause a schema enforcement error. The best way to avoid this problem is to infer the model schema based on a realistic data sample (training dataset) that includes missing values. Alternatively, you can declare integer columns as doubles (float64) whenever these columns may have missing values. See `Handling Integers With Missing Values <https://www.mlflow.org/docs/latest/models.html#handling-integers-with-missing-values>`_ for more details.\"\n",
      "2024/06/06 19:47:41 INFO mlflow.sklearn.utils: Logging the 5 best runs, 211 runs will be omitted.\n"
     ]
    },
    {
     "name": "stdout",
     "output_type": "stream",
     "text": [
      "Accuracy: 0.9805\n"
     ]
    }
   ],
   "source": [
    "# Set the MLflow experiment\n",
    "mlflow.set_experiment(\"random_forest_gs_feature\")\n",
    "\n",
    "mlflow.sklearn.autolog()\n",
    "\n",
    "model = RandomForestClassifier(random_state=42)\n",
    "\n",
    "# Define the parameters for GridSearchCV\n",
    "param_grid = {\n",
    "    'model__n_estimators': [100, 150, 200],\n",
    "    'model__max_depth': [None, 10, 20, 30],\n",
    "    'model__min_samples_split': [2, 5, 10],\n",
    "    'model__min_samples_leaf': [1, 2, 4],\n",
    "    'model__bootstrap': [True, False]\n",
    "}\n",
    "\n",
    "# Define the pipeline\n",
    "pipeline = Pipeline(steps=[\n",
    "    ('preprocessor', preprocessor),\n",
    "    ('model', model)\n",
    "])\n",
    "\n",
    "# Accuracy as scoring metric\n",
    "scorer = make_scorer(accuracy_score)\n",
    "\n",
    "with mlflow.start_run():\n",
    "   \n",
    "    # Set up GridSearchCV\n",
    "    grid_search = GridSearchCV(estimator=pipeline, param_grid=param_grid,\n",
    "                               cv=5, verbose=2, n_jobs=-1, scoring=scorer)\n",
    "\n",
    "    # Fit GridSearchCV\n",
    "    grid_search.fit(X_train, y_train)\n",
    "\n",
    "    # Get the best parameters\n",
    "    best_params = grid_search.best_params_\n",
    "    mlflow.log_params(best_params)\n",
    "\n",
    "    # Get the best model\n",
    "    best_rf_classifier = grid_search.best_estimator_\n",
    "\n",
    "    # Prediction\n",
    "    y_pred = best_rf_classifier.predict(X_test)\n",
    "\n",
    "    # Evaluation\n",
    "    accuracy = accuracy_score(y_test, y_pred)\n",
    "    print(\"Accuracy:\", accuracy)\n",
    "    mlflow.log_metric('accuracy', accuracy)\n",
    "    mlflow.end_run()"
   ]
  },
  {
   "cell_type": "markdown",
   "metadata": {},
   "source": [
    "# Evaluation"
   ]
  },
  {
   "cell_type": "code",
   "execution_count": 38,
   "metadata": {},
   "outputs": [],
   "source": [
    "error_names = [\n",
    " 'Heat Failure',\n",
    " 'No Failure',\n",
    " 'Overstrain Failure',\n",
    " 'Power Failure',\n",
    " 'Random Failure',\n",
    " 'Tool wear Failure'] # get names of errors in correct order for confusion matrix"
   ]
  },
  {
   "cell_type": "markdown",
   "metadata": {},
   "source": [
    "## Clasification report"
   ]
  },
  {
   "cell_type": "code",
   "execution_count": 39,
   "metadata": {},
   "outputs": [
    {
     "name": "stdout",
     "output_type": "stream",
     "text": [
      "Classification Report:\n",
      "                          precision    recall  f1-score   support\n",
      "\n",
      "Heat Dissipation Failure       0.92      0.73      0.81        15\n",
      "              No Failure       0.99      1.00      0.99      1935\n",
      "      Overstrain Failure       0.75      0.69      0.72        13\n",
      "           Power Failure       0.71      0.75      0.73        20\n",
      "         Random Failures       0.00      0.00      0.00         6\n",
      "       Tool Wear Failure       0.00      0.00      0.00        11\n",
      "\n",
      "                accuracy                           0.98      2000\n",
      "               macro avg       0.56      0.53      0.54      2000\n",
      "            weighted avg       0.97      0.98      0.98      2000\n",
      "\n"
     ]
    },
    {
     "name": "stderr",
     "output_type": "stream",
     "text": [
      "c:\\Users\\jkoenemann\\GitHub\\machine_failure_classification\\venv\\Lib\\site-packages\\sklearn\\metrics\\_classification.py:1509: UndefinedMetricWarning: Precision is ill-defined and being set to 0.0 in labels with no predicted samples. Use `zero_division` parameter to control this behavior.\n",
      "  _warn_prf(average, modifier, f\"{metric.capitalize()} is\", len(result))\n",
      "c:\\Users\\jkoenemann\\GitHub\\machine_failure_classification\\venv\\Lib\\site-packages\\sklearn\\metrics\\_classification.py:1509: UndefinedMetricWarning: Precision is ill-defined and being set to 0.0 in labels with no predicted samples. Use `zero_division` parameter to control this behavior.\n",
      "  _warn_prf(average, modifier, f\"{metric.capitalize()} is\", len(result))\n",
      "c:\\Users\\jkoenemann\\GitHub\\machine_failure_classification\\venv\\Lib\\site-packages\\sklearn\\metrics\\_classification.py:1509: UndefinedMetricWarning: Precision is ill-defined and being set to 0.0 in labels with no predicted samples. Use `zero_division` parameter to control this behavior.\n",
      "  _warn_prf(average, modifier, f\"{metric.capitalize()} is\", len(result))\n"
     ]
    }
   ],
   "source": [
    "print(\"Classification Report:\")\n",
    "report = classification_report(y_test, y_pred)\n",
    "print(report)"
   ]
  },
  {
   "cell_type": "markdown",
   "metadata": {},
   "source": [
    "## Normalized confusion matrix"
   ]
  },
  {
   "cell_type": "code",
   "execution_count": 40,
   "metadata": {},
   "outputs": [
    {
     "data": {
      "image/png": "[encoded data removed]",
      "text/plain": [
       "<Figure size 800x600 with 1 Axes>"
      ]
     },
     "metadata": {},
     "output_type": "display_data"
    }
   ],
   "source": [
    "conf_matrix_normalized = confusion_matrix(y_test, y_pred, normalize='true')\n",
    "\n",
    "plt.figure(figsize=(8, 6))\n",
    "sns.heatmap(conf_matrix_normalized, annot=True, cmap=\"Blues\", cbar=False, xticklabels=error_names, yticklabels=error_names)\n",
    "plt.xlabel(\"Predicted Label\")\n",
    "plt.ylabel(\"True Label\")\n",
    "plt.title(\"Normalized Confusion Matrix\")\n",
    "plt.show()\n"
   ]
  },
  {
   "cell_type": "code",
   "execution_count": null,
   "metadata": {},
   "outputs": [],
   "source": []
  },
  {
   "cell_type": "code",
   "execution_count": null,
   "metadata": {},
   "outputs": [],
   "source": []
  }
 ],
 "metadata": {
  "kernelspec": {
   "display_name": "venv",
   "language": "python",
   "name": "python3"
  },
  "language_info": {
   "codemirror_mode": {
    "name": "ipython",
    "version": 3
   },
   "file_extension": ".py",
   "mimetype": "text/x-python",
   "name": "python",
   "nbconvert_exporter": "python",
   "pygments_lexer": "ipython3",
   "version": "3.12.0"
  }
 },
 "nbformat": 4,
 "nbformat_minor": 2
}
