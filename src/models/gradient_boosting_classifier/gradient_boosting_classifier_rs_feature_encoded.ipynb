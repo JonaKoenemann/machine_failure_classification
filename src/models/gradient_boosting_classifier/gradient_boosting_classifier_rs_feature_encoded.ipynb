{
 "cells": [
  {
   "cell_type": "code",
   "execution_count": 6,
   "metadata": {},
   "outputs": [],
   "source": [
    "import pandas as pd\n",
    "import numpy as np\n",
    "import random\n",
    "import seaborn as sns\n",
    "import mlflow\n",
    "import mlflow.sklearn\n",
    "from sklearn.ensemble import GradientBoostingClassifier\n",
    "from sklearn.model_selection import train_test_split, RandomizedSearchCV\n",
    "from sklearn.preprocessing import StandardScaler, OneHotEncoder, PolynomialFeatures, LabelEncoder\n",
    "from sklearn.compose import ColumnTransformer\n",
    "from sklearn.pipeline import Pipeline\n",
    "from sklearn.metrics import f1_score, classification_report, confusion_matrix, make_scorer\n",
    "import matplotlib.pyplot as plt\n",
    "from scipy.stats import randint, loguniform, rv_discrete\n",
    "import dagshub"
   ]
  },
  {
   "cell_type": "code",
   "execution_count": 7,
   "metadata": {},
   "outputs": [
    {
     "data": {
      "text/html": [
       "<pre style=\"white-space:pre;overflow-x:auto;line-height:normal;font-family:Menlo,'DejaVu Sans Mono',consolas,'Courier New',monospace\">Initialized MLflow to track repo <span style=\"color: #008000; text-decoration-color: #008000\">\"JonaKoenemann/machine_failure_classification\"</span>\n",
       "</pre>\n"
      ],
      "text/plain": [
       "Initialized MLflow to track repo \u001b[32m\"JonaKoenemann/machine_failure_classification\"\u001b[0m\n"
      ]
     },
     "metadata": {},
     "output_type": "display_data"
    },
    {
     "data": {
      "text/html": [
       "<pre style=\"white-space:pre;overflow-x:auto;line-height:normal;font-family:Menlo,'DejaVu Sans Mono',consolas,'Courier New',monospace\">Repository JonaKoenemann/machine_failure_classification initialized!\n",
       "</pre>\n"
      ],
      "text/plain": [
       "Repository JonaKoenemann/machine_failure_classification initialized!\n"
      ]
     },
     "metadata": {},
     "output_type": "display_data"
    }
   ],
   "source": [
    "# set up dagshub for mlflow tracking\n",
    "dagshub.init(repo_owner='JonaKoenemann', repo_name='machine_failure_classification', mlflow=True)\n"
   ]
  },
  {
   "cell_type": "markdown",
   "metadata": {},
   "source": [
    "# Data preparation"
   ]
  },
  {
   "cell_type": "code",
   "execution_count": 8,
   "metadata": {},
   "outputs": [],
   "source": [
    "data_path = \"../../../data/predictive_maintenance.csv\""
   ]
  },
  {
   "cell_type": "code",
   "execution_count": 9,
   "metadata": {},
   "outputs": [],
   "source": [
    "df = pd.read_csv(data_path)"
   ]
  },
  {
   "cell_type": "code",
   "execution_count": 10,
   "metadata": {},
   "outputs": [],
   "source": [
    "categorical_features = ['Type']\n",
    "numerical_features = df.select_dtypes(include=[np.number]).columns.tolist()\n",
    "numerical_features.remove('UDI')\n",
    "numerical_features.remove('Target')\n",
    "\n",
    "# Feature Engineering: Polynomial Features\n",
    "poly = PolynomialFeatures(degree=2, include_bias=False)\n",
    "\n",
    "preprocessor = ColumnTransformer(\n",
    "    transformers=[\n",
    "        ('num', Pipeline(steps=[\n",
    "            ('scaler', StandardScaler()),\n",
    "            ('poly', poly)\n",
    "        ]), numerical_features),\n",
    "        ('cat', OneHotEncoder(), categorical_features)\n",
    "    ])"
   ]
  },
  {
   "cell_type": "code",
   "execution_count": 11,
   "metadata": {},
   "outputs": [],
   "source": [
    "# Split for features (X) und labels (y)\n",
    "X = df[numerical_features + categorical_features] # select Features \n",
    "y = df[\"Failure Type\"]"
   ]
  },
  {
   "cell_type": "code",
   "execution_count": 12,
   "metadata": {},
   "outputs": [],
   "source": [
    "# # Encode target variable as categorical\n",
    "# y_encoded = pd.get_dummies(y).values # dimensions created does not work with gb model\n",
    "label_encoder = LabelEncoder()\n",
    "y_encoded = label_encoder.fit_transform(y)"
   ]
  },
  {
   "cell_type": "code",
   "execution_count": 13,
   "metadata": {},
   "outputs": [],
   "source": [
    "# Split for test and train data\n",
    "X_train, X_test, y_train, y_test = train_test_split(X, y_encoded, test_size=0.2, random_state=42)"
   ]
  },
  {
   "cell_type": "code",
   "execution_count": 14,
   "metadata": {},
   "outputs": [
    {
     "name": "stdout",
     "output_type": "stream",
     "text": [
      "(8000, 23)\n",
      "(2000, 23)\n"
     ]
    }
   ],
   "source": [
    "# Test preprocessor pipeline\n",
    "X_train_transformed = preprocessor.fit_transform(X_train)\n",
    "X_test_transformed = preprocessor.transform(X_test)\n",
    "\n",
    "print(X_train_transformed.shape)\n",
    "print(X_test_transformed.shape)"
   ]
  },
  {
   "cell_type": "code",
   "execution_count": 15,
   "metadata": {},
   "outputs": [],
   "source": [
    "def custom_max_depth_sampler():\n",
    "    choices = [None] + list(range(3, 31))\n",
    "    probs = np.ones(len(choices)) / len(choices)\n",
    "    return np.random.choice(choices, p=probs, size=None, replace=True)\n"
   ]
  },
  {
   "cell_type": "markdown",
   "metadata": {},
   "source": [
    "# Train and test"
   ]
  },
  {
   "cell_type": "code",
   "execution_count": 16,
   "metadata": {},
   "outputs": [
    {
     "name": "stderr",
     "output_type": "stream",
     "text": [
      "2024/07/05 09:45:13 INFO mlflow.tracking.fluent: Experiment with name 'gradient_boosting_classifier_rs_feature_encoded' does not exist. Creating a new experiment.\n"
     ]
    }
   ],
   "source": [
    "mlflow.set_experiment(\"gradient_boosting_classifier_rs_feature_encoded\")\n",
    "\n",
    "mlflow.sklearn.autolog()\n",
    "\n",
    "model = GradientBoostingClassifier(random_state=42)\n",
    "\n",
    "param_distributions = {\n",
    "    'model__loss': ['log_loss'], \n",
    "    'model__learning_rate':loguniform(0.001, 0.1), #[0.01, 0.05, 0.1, 0.15, 0.2],\n",
    "    'model__n_estimators': randint(100, 300),#[100, 150, 250, 300],\n",
    "    'model__max_depth': [custom_max_depth_sampler()], # None or integer between 10 and 30\n",
    "    'model__min_samples_split': randint(2, 10),\n",
    "    'model__min_samples_leaf': randint(1, 10)\n",
    "}\n",
    "\n",
    "# Define the pipeline\n",
    "pipeline = Pipeline(steps=[\n",
    "    ('preprocessor', preprocessor),\n",
    "    ('model', model)\n",
    "])\n",
    "\n",
    "# weighted f1 score as scoring metric\n",
    "scorer = make_scorer(f1_score, average = \"weighted\")\n"
   ]
  },
  {
   "cell_type": "code",
   "execution_count": 17,
   "metadata": {},
   "outputs": [
    {
     "name": "stderr",
     "output_type": "stream",
     "text": [
      "2024/07/05 09:45:15 WARNING mlflow.utils.autologging_utils: MLflow autologging encountered a warning: \"c:\\Users\\jkoenemann\\GitHub\\machine_failure_classification\\venv\\Lib\\site-packages\\mlflow\\data\\digest_utils.py:26: FutureWarning: DataFrame.applymap has been deprecated. Use DataFrame.map instead.\"\n",
      "2024/07/05 09:45:37 WARNING mlflow.utils.autologging_utils: MLflow autologging encountered a warning: \"c:\\Users\\jkoenemann\\GitHub\\machine_failure_classification\\venv\\Lib\\site-packages\\mlflow\\types\\utils.py:394: UserWarning: Hint: Inferred schema contains integer column(s). Integer columns in Python cannot represent missing values. If your input data contains missing values at inference time, it will be encoded as floats and will cause a schema enforcement error. The best way to avoid this problem is to infer the model schema based on a realistic data sample (training dataset) that includes missing values. Alternatively, you can declare integer columns as doubles (float64) whenever these columns may have missing values. See `Handling Integers With Missing Values <https://www.mlflow.org/docs/latest/models.html#handling-integers-with-missing-values>`_ for more details.\"\n"
     ]
    },
    {
     "name": "stdout",
     "output_type": "stream",
     "text": [
      "Fitting 3 folds for each of 50 candidates, totalling 150 fits\n"
     ]
    },
    {
     "name": "stderr",
     "output_type": "stream",
     "text": [
      "2024/07/05 12:16:10 WARNING mlflow.utils.autologging_utils: MLflow autologging encountered a warning: \"c:\\Users\\jkoenemann\\GitHub\\machine_failure_classification\\venv\\Lib\\site-packages\\mlflow\\types\\utils.py:394: UserWarning: Hint: Inferred schema contains integer column(s). Integer columns in Python cannot represent missing values. If your input data contains missing values at inference time, it will be encoded as floats and will cause a schema enforcement error. The best way to avoid this problem is to infer the model schema based on a realistic data sample (training dataset) that includes missing values. Alternatively, you can declare integer columns as doubles (float64) whenever these columns may have missing values. See `Handling Integers With Missing Values <https://www.mlflow.org/docs/latest/models.html#handling-integers-with-missing-values>`_ for more details.\"\n",
      "2024/07/05 12:18:06 INFO mlflow.sklearn.utils: Logging the 5 best runs, 45 runs will be omitted.\n"
     ]
    },
    {
     "name": "stdout",
     "output_type": "stream",
     "text": [
      "\n",
      "best params: {'model__learning_rate': 0.026383097314635354, 'model__loss': 'log_loss', 'model__max_depth': 20, 'model__min_samples_leaf': 3, 'model__min_samples_split': 8, 'model__n_estimators': 195}\n",
      "\n",
      "weighted f1 score: 0.9822238422209014\n"
     ]
    }
   ],
   "source": [
    "with mlflow.start_run():    \n",
    "    # Set up RandomizedSearchCV\n",
    "    randomized_search = RandomizedSearchCV(estimator=pipeline, param_distributions=param_distributions,\n",
    "                                           n_iter=50, cv=3, verbose=2, random_state=42, n_jobs=-1, scoring=scorer)\n",
    "\n",
    "    # Fit RandomizedSearchCV\n",
    "    randomized_search.fit(X_train, y_train)\n",
    "\n",
    "    # Get the best parameters\n",
    "    best_params = randomized_search.best_params_\n",
    "    mlflow.log_params(best_params)\n",
    "    print(f\"\\nbest params: {best_params}\")\n",
    "\n",
    "    # Get the best model\n",
    "    best_model = randomized_search.best_estimator_\n",
    "\n",
    "    # predicition\n",
    "    y_pred = best_model.predict(X_test)\n",
    "\n",
    "    # evaluation\n",
    "    weighted_f1 = f1_score(y_true = y_test, y_pred= y_pred, average=\"weighted\")\n",
    "    print(\"\\nweighted f1 score:\", weighted_f1)\n",
    "    mlflow.log_metric('weighted_f1_score', weighted_f1)\n",
    "    \n",
    "    mlflow.end_run()\n"
   ]
  },
  {
   "cell_type": "markdown",
   "metadata": {},
   "source": [
    "# Evaluation"
   ]
  },
  {
   "cell_type": "code",
   "execution_count": 18,
   "metadata": {},
   "outputs": [],
   "source": [
    "error_names = [\n",
    " 'Heat Failure',\n",
    " 'No Failure',\n",
    " 'Overstrain Failure',\n",
    " 'Power Failure',\n",
    " 'Random Failure',\n",
    " 'Tool wear Failure'] # get names of errors in correct order for confusion matrix"
   ]
  },
  {
   "cell_type": "markdown",
   "metadata": {},
   "source": [
    "## Classification report"
   ]
  },
  {
   "cell_type": "code",
   "execution_count": 19,
   "metadata": {},
   "outputs": [
    {
     "name": "stdout",
     "output_type": "stream",
     "text": [
      "Classification Report:\n",
      "              precision    recall  f1-score   support\n",
      "\n",
      "           0       1.00      0.93      0.97        15\n",
      "           1       0.99      1.00      0.99      1935\n",
      "           2       0.85      0.85      0.85        13\n",
      "           3       0.84      0.80      0.82        20\n",
      "           4       0.00      0.00      0.00         6\n",
      "           5       0.00      0.00      0.00        11\n",
      "\n",
      "    accuracy                           0.99      2000\n",
      "   macro avg       0.61      0.60      0.60      2000\n",
      "weighted avg       0.98      0.99      0.98      2000\n",
      "\n"
     ]
    },
    {
     "name": "stderr",
     "output_type": "stream",
     "text": [
      "c:\\Users\\jkoenemann\\GitHub\\machine_failure_classification\\venv\\Lib\\site-packages\\sklearn\\metrics\\_classification.py:1509: UndefinedMetricWarning: Precision is ill-defined and being set to 0.0 in labels with no predicted samples. Use `zero_division` parameter to control this behavior.\n",
      "  _warn_prf(average, modifier, f\"{metric.capitalize()} is\", len(result))\n",
      "c:\\Users\\jkoenemann\\GitHub\\machine_failure_classification\\venv\\Lib\\site-packages\\sklearn\\metrics\\_classification.py:1509: UndefinedMetricWarning: Precision is ill-defined and being set to 0.0 in labels with no predicted samples. Use `zero_division` parameter to control this behavior.\n",
      "  _warn_prf(average, modifier, f\"{metric.capitalize()} is\", len(result))\n",
      "c:\\Users\\jkoenemann\\GitHub\\machine_failure_classification\\venv\\Lib\\site-packages\\sklearn\\metrics\\_classification.py:1509: UndefinedMetricWarning: Precision is ill-defined and being set to 0.0 in labels with no predicted samples. Use `zero_division` parameter to control this behavior.\n",
      "  _warn_prf(average, modifier, f\"{metric.capitalize()} is\", len(result))\n"
     ]
    }
   ],
   "source": [
    "print(\"Classification Report:\")\n",
    "report = classification_report(y_test, y_pred)\n",
    "print(report)"
   ]
  },
  {
   "cell_type": "markdown",
   "metadata": {},
   "source": [
    "# Normalized consuion matrix"
   ]
  },
  {
   "cell_type": "code",
   "execution_count": 21,
   "metadata": {},
   "outputs": [
    {
     "data": {
      "image/png": "[encoded data removed]",
      "text/plain": [
       "<Figure size 800x600 with 1 Axes>"
      ]
     },
     "metadata": {},
     "output_type": "display_data"
    }
   ],
   "source": [
    "conf_matrix_normalized = confusion_matrix(y_test, y_pred, normalize='true')\n",
    "\n",
    "plt.figure(figsize=(8, 6))\n",
    "sns.heatmap(conf_matrix_normalized, annot=True, cmap=\"Blues\", cbar=False, xticklabels=error_names, yticklabels=error_names)\n",
    "plt.xlabel(\"Predicted Label\")\n",
    "plt.ylabel(\"True Label\")\n",
    "plt.title(\"Normalized Confusion Matrix\")\n",
    "plt.show()"
   ]
  },
  {
   "cell_type": "code",
   "execution_count": null,
   "metadata": {},
   "outputs": [],
   "source": []
  }
 ],
 "metadata": {
  "kernelspec": {
   "display_name": "venv",
   "language": "python",
   "name": "python3"
  },
  "language_info": {
   "codemirror_mode": {
    "name": "ipython",
    "version": 3
   },
   "file_extension": ".py",
   "mimetype": "text/x-python",
   "name": "python",
   "nbconvert_exporter": "python",
   "pygments_lexer": "ipython3",
   "version": "3.12.0"
  }
 },
 "nbformat": 4,
 "nbformat_minor": 2
}
